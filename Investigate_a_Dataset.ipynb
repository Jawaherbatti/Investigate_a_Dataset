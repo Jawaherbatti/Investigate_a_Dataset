{
 "cells": [
  {
   "cell_type": "markdown",
   "metadata": {},
   "source": [
    "\n",
    "\n",
    "# Project: Investigate a Dataset \n",
    "\n",
    "## Table of Contents\n",
    "<ul>\n",
    "<li><a href=\"#intro\">Introduction</a></li>\n",
    "<li><a href=\"#wrangling\">Data Wrangling</a></li>\n",
    "<li><a href=\"#eda\">Exploratory Data Analysis</a></li>\n",
    "<li><a href=\"#conclusions\">Conclusions</a></li>\n",
    "</ul>"
   ]
  },
  {
   "cell_type": "markdown",
   "metadata": {},
   "source": [
    "<a id='intro'></a>\n",
    "## Introduction\n",
    "\n",
    "The Movie Database (TMDb) collected  information about 100K movies , including user ratings and revenue. \n",
    "\n",
    "Here we will try to solve many questions such as:\n",
    "* information about dataset.\n",
    "* How many values in each category.\n",
    "* missing or duplicate value in dataset.\n",
    "* negetive value in age and how to drop it from the dataset.\n",
    "* How to rename the columns.\n",
    "* creating dummy values of gender and merge it with original df.\n",
    "* creating binning function for cuttingn ages column.\n",
    "\n",
    "For the analysis included in the notebook I have chosen to look at the following 3 questions (some sub-questions are looked at in detail as part of the analysis):\n",
    "* are there more no_shows with alcoholism or vice versa.\n",
    "* how many patients in each group.\n",
    "* dose certain gender influence whether one shows up to appoinments or not.\n",
    "### Dataset Description \n",
    "PatientId: the information of patient.\t\n",
    "AppointmentID: information of appointment.\n",
    "Gender: Female or Male.\n",
    "ScheduledDay: the date and time of the appointment.\t\n",
    "AppointmentDay: the day that patinet is called.\n",
    "Age\tNeighbourhood: how old is the patient.\t\n",
    "Scholarship\tHipertension\t\n",
    "Diabetes: if the patient is have Diabetes or not\t\n",
    "Alcoholism: if the patient is under the alcohol or not.\t\n",
    "Handcap\tSMS_received: if the patinet recevied the appointment SMS.\t\n",
    "No-show: \"No\" if the patinet is not come , \"Yes\" if the patinet is come to the appointment.\n",
    "\n",
    "\n",
    "### Question(s) for Analysis\n",
    "* information about dataset.\n",
    "* How many values in each category.\n",
    "* missing or duplicate value in dataset.\n",
    "* negetive value in age and how to drop it from the dataset.\n",
    "* How to rename the columns.\n",
    "* creating dummy values of gender and merge it with original df.\n",
    "* creating binning function for cuttingn ages column."
   ]
  },
  {
   "cell_type": "code",
   "execution_count": null,
   "metadata": {},
   "outputs": [],
   "source": [
    "# Use this cell to set up import statements for all of the packages that you\n",
    "#   plan to use.\n",
    "\n",
    "# Remember to include a 'magic word' so that your visualizations are plotted\n",
    "#   inline with the notebook. See this page for more:\n",
    "#   http://ipython.readthedocs.io/en/stable/interactive/magics.html\n",
    "import pandas as pd\n",
    "import numpy as np\n",
    "import matplotlib.pyplot as plt\n",
    "import seaborn as sns\n",
    "%matplotlib inline"
   ]
  },
  {
   "cell_type": "code",
   "execution_count": null,
   "metadata": {},
   "outputs": [],
   "source": [
    "# Upgrade pandas to use dataframe.explode() function. \n",
    "!pip install --upgrade pandas==0.25.0"
   ]
  },
  {
   "cell_type": "markdown",
   "metadata": {},
   "source": [
    "<a id='wrangling'></a>\n",
    "## Data Wrangling\n",
    "\n",
    "here:\n",
    "- we Load the data and print out a few lines. \n",
    "- types and look for instances of missing or possibly errant data.\n",
    "- information of dataset.\n",
    "- dataset shape.\n",
    "- how many values are in each cateogry.\n",
    "- missing value in dataset.\n",
    "- if there is a duplicate value or not.\n",
    "- is no negetive value in age.\n",
    " Tip:\n",
    " in this section, we will load the data, check the missing values of data and clean the dataset for analysis. Make sure that you doocuments steps carefullyand justify it."
   ]
  },
  {
   "cell_type": "code",
   "execution_count": null,
   "metadata": {},
   "outputs": [],
   "source": [
    "# Load your data and print out a few lines. Perform operations to inspect data\n",
    "#   types and look for instances of missing or possibly errant data.\n",
    "df = pd.read_csv('noshowappointments-kagglev2-may-2016.csv')\n",
    "df.head()"
   ]
  },
  {
   "cell_type": "code",
   "execution_count": null,
   "metadata": {},
   "outputs": [],
   "source": [
    "#information of dataset\n",
    "df.info()"
   ]
  },
  {
   "cell_type": "markdown",
   "metadata": {},
   "source": [
    "no missing data."
   ]
  },
  {
   "cell_type": "code",
   "execution_count": null,
   "metadata": {},
   "outputs": [],
   "source": [
    "#dataset shape\n",
    "df.shape"
   ]
  },
  {
   "cell_type": "code",
   "execution_count": null,
   "metadata": {},
   "outputs": [],
   "source": [
    "df.describe()"
   ]
  },
  {
   "cell_type": "markdown",
   "metadata": {},
   "source": [
    "the mean of Ages is 37 years.\n",
    "the maximum age is 115 years.\n",
    "there maybe some mistak in one value of Age (-1)."
   ]
  },
  {
   "cell_type": "code",
   "execution_count": null,
   "metadata": {},
   "outputs": [],
   "source": [
    "#how many values are in each cateogry\n",
    "df.nunique()"
   ]
  },
  {
   "cell_type": "code",
   "execution_count": null,
   "metadata": {},
   "outputs": [],
   "source": [
    "#missing value in dataset\n",
    "df.isnull().sum()"
   ]
  },
  {
   "cell_type": "code",
   "execution_count": null,
   "metadata": {},
   "outputs": [],
   "source": [
    "#if it a duplicate value or not\n",
    "sum(df.duplicated())"
   ]
  },
  {
   "cell_type": "code",
   "execution_count": null,
   "metadata": {},
   "outputs": [],
   "source": [
    "#is no negetive value in age\n",
    "df.Age.max(), df.Age.min()"
   ]
  },
  {
   "cell_type": "markdown",
   "metadata": {},
   "source": [
    "\n",
    "### Data Cleaning\n",
    "\n",
    "here we will do:\n",
    "+ drop negative age from dataset.\n",
    "+ rename the columns.\n",
    "+ creating dummy values of gender.\n",
    "+ merge dummy values to original df.\n",
    "+ drop gender column.\n",
    "+ creating binning function for cuttingn ages column."
   ]
  },
  {
   "cell_type": "code",
   "execution_count": null,
   "metadata": {},
   "outputs": [],
   "source": [
    "# After discussing the structure of the data and any problems that need to be\n",
    "#   cleaned, perform those cleaning steps in the second part of this section.\n",
    "df.query('Age == \"-1\"')"
   ]
  },
  {
   "cell_type": "code",
   "execution_count": null,
   "metadata": {},
   "outputs": [],
   "source": [
    "#drop negative age from dataset\n",
    "df.drop(df.index[99832], inplace=True)"
   ]
  },
  {
   "cell_type": "code",
   "execution_count": null,
   "metadata": {},
   "outputs": [],
   "source": [
    "df.info()"
   ]
  },
  {
   "cell_type": "code",
   "execution_count": null,
   "metadata": {},
   "outputs": [],
   "source": [
    "df.head(1)"
   ]
  },
  {
   "cell_type": "code",
   "execution_count": null,
   "metadata": {},
   "outputs": [],
   "source": [
    "#rename the columns\n",
    "df.rename(columns = {'PatientId':'Patient_Id', 'AppointmentID':'Appointment_ID', 'ScheduledDay':'Scheduled_Day', 'AppointmentDay':'Appointment_Day', 'Hipertension':'Hypertension', 'No-show':'No_show'}, inplace=True)\n",
    "df.head()"
   ]
  },
  {
   "cell_type": "code",
   "execution_count": null,
   "metadata": {},
   "outputs": [],
   "source": [
    "#creating dummy values of gender\n",
    "dummy = pd.get_dummies(df['Gender'])\n",
    "dummy.head()"
   ]
  },
  {
   "cell_type": "code",
   "execution_count": null,
   "metadata": {},
   "outputs": [],
   "source": [
    "#merge dummy values to original df\n",
    "df = pd.concat([df, dummy], axis = 1)\n",
    "df.head()"
   ]
  },
  {
   "cell_type": "code",
   "execution_count": null,
   "metadata": {},
   "outputs": [],
   "source": [
    "#drop gender column \n",
    "df.drop(['Gender'], axis = 1, inplace = True)\n",
    "df.head(3)"
   ]
  },
  {
   "cell_type": "code",
   "execution_count": null,
   "metadata": {},
   "outputs": [],
   "source": [
    "#creating binning function for cuttingn ages column\n",
    "\n",
    "def binning(dataframe, cut_points, labels = None):\n",
    "    #Define min  and max values\n",
    "    minimum = dataframe.min()\n",
    "    maximum = dataframe.max()\n",
    "    \n",
    "    #create list by adding min and max to cut_points\n",
    "    break_points = [minimum] + cut_points + [maximum]\n",
    "    \n",
    "    #Binning using cut function of pandas\n",
    "    dataframeBin = pd.cut(dataframe, bins = break_points, labels = labels, include_lowest = True)\n",
    "    return dataframeBin\n",
    "\n",
    "#Binning age:\n",
    "cut_points = [10, 20, 30, 40, 50, 60, 70, 80, 90, 100]\n",
    "labels = [\"child\", \"teen\", \"young_adult\", \"40s\", \"50s\", \"retirement\", \"70s\", \"80s\", \"90s\", \"100s\", \"centenarian\"]\n",
    "df[\"Age_Bin\"] = binning(df[\"Age\"],cut_points, labels)\n",
    "print(pd.value_counts(df[\"Age_Bin\"], sort = False))"
   ]
  },
  {
   "cell_type": "code",
   "execution_count": null,
   "metadata": {},
   "outputs": [],
   "source": [
    "### General look on the data"
   ]
  },
  {
   "cell_type": "code",
   "execution_count": null,
   "metadata": {},
   "outputs": [],
   "source": [
    "# histogram for all dataset\n",
    "df.hist(figsize=(15, 12))"
   ]
  },
  {
   "cell_type": "markdown",
   "metadata": {},
   "source": [
    "- 18% or more suffered from hypertension.\n",
    "- No. of patinet who recived SMS is half the No. of those who not recived.\n",
    "- Most of the patinets didn't suffer from diseases."
   ]
  },
  {
   "cell_type": "markdown",
   "metadata": {},
   "source": [
    "<a id='eda'></a>\n",
    "## Exploratory Data Analysis\n",
    "\n",
    "there are three Questions:\n",
    "* are there more no_shows with alcoholism or vice versa.\n",
    "* how many patients in each group.\n",
    "* dose certain gender influence whether one shows up to appoinments or not.\n",
    "\n",
    "### Research Question 1: are there more no_shows with alcoholism or vice versa?"
   ]
  },
  {
   "cell_type": "code",
   "execution_count": null,
   "metadata": {},
   "outputs": [],
   "source": [
    "df.shape"
   ]
  },
  {
   "cell_type": "code",
   "execution_count": null,
   "metadata": {},
   "outputs": [],
   "source": [
    "# Use this, and more code cells, to explore your data. Don't forget to add\n",
    "#   Markdown cells to document your observations and findings.\n",
    "df.groupby([\"No_show\", \"SMS_received\"]).size()"
   ]
  },
  {
   "cell_type": "markdown",
   "metadata": {},
   "source": [
    "### Research Question 2  : how many patients dose not show?"
   ]
  },
  {
   "cell_type": "code",
   "execution_count": null,
   "metadata": {},
   "outputs": [],
   "source": [
    "# Continue to explore the data to address your additional research\n",
    "#   questions. Add more headers as needed if you have more questions to\n",
    "#   investigate.\n",
    "\n",
    "# return the Age_Bin column variable to make sure that the groupby function is able to run\n",
    "df[\"Age_Bin\"] = binning(df[\"Age\"],cut_points, labels)\n",
    "# run the groupy function\n",
    "df.groupby(['No_show', 'Age_Bin']).size()"
   ]
  },
  {
   "cell_type": "code",
   "execution_count": null,
   "metadata": {},
   "outputs": [],
   "source": [
    "#plot the histogram and sit the xtic properties\n",
    "ax = df['Age'].plot(kind = 'hist')\n",
    "ax.set_xticks(cut_points)\n",
    "ax.set_xticklabels(labels, rotation = 60, )\n",
    "#set histogram labels and titles\n",
    "plt.xlabel('Age Group', fontsize = 16)\n",
    "plt.ylabel('Number of Patients', fontsize = 16)\n",
    "plt.title('Number of \"No_Show\" Patients by Age Group', fontsize = 22)\n",
    "plt.xlim([0, 120])\n",
    "plt.show()"
   ]
  },
  {
   "cell_type": "markdown",
   "metadata": {},
   "source": [
    "\n",
    "here:\n",
    "- the childs are the most hwo don't come to the apoitment.\n",
    "- The younger age group is not regular in appointments, unlike the older age group, so that it is clear that they are committed. "
   ]
  },
  {
   "cell_type": "markdown",
   "metadata": {},
   "source": [
    "### Research Question 3  : dose certain gender influence whether one shows up to appoinments or not?"
   ]
  },
  {
   "cell_type": "code",
   "execution_count": null,
   "metadata": {},
   "outputs": [],
   "source": [
    "# create pie chart to detrmine which catogry is influences\n",
    "# use column F to represents 1 female and 0 male\n",
    "df.groupby(['No_show', 'F']).size()"
   ]
  },
  {
   "cell_type": "code",
   "execution_count": null,
   "metadata": {},
   "outputs": [],
   "source": [
    "#set pie chart proprities\n",
    "labels = 'Female, No show', 'Female, Showed', 'male, No show', 'male, Showed'\n",
    "cut_points = [ 57245, 14594, 30962, 7725]\n",
    "colors = ['red', 'green', 'blue', 'pink']\n",
    "\n",
    "#set pie chart title and axis\n",
    "fig1, ax = plt.subplots()\n",
    "ax.pie(cut_points, labels = labels, colors = colors, autopct = '%1.1f%%')\n",
    "plt.title('Proportion of Female and Male Patients', fontsize = 18)\n",
    "\n",
    "#equal aspect ratio ensures that pie is drawn as circle\n",
    "ax.axis('equal')\n",
    "\n",
    "#plot pie chart\n",
    "plt.show()"
   ]
  },
  {
   "cell_type": "markdown",
   "metadata": {},
   "source": [
    "\n",
    "\n",
    "here:\n",
    "- The percentage of women who do not show appointments is greater than those who showed, as the percentage of women who showed(13.2%) which do not show(51.8%).\n",
    "- The percentage of men who do not show appointments is greater than those who showed, as the percentage of men who showed(7.0%) which do not show(28.0%).\n",
    "\n"
   ]
  },
  {
   "cell_type": "code",
   "execution_count": null,
   "metadata": {},
   "outputs": [],
   "source": [
    "# define show and noshow\n",
    "show = df.No_show == 'No'\n",
    "noshow = df.No_show == 'Yes'"
   ]
  },
  {
   "cell_type": "code",
   "execution_count": null,
   "metadata": {},
   "outputs": [],
   "source": [
    "# pi shart for comparison between those who showed to those who did not according to the gender\n",
    "plt.figure(figsize=[14.70, 8.27])\n",
    "df.Age[show].hist(alpha = 0.5, label = 'show')\n",
    "df.Age[noshow].hist(alpha = 0.5, label = 'noshow')\n",
    "plt.legend()\n",
    "plt.title('comparison between those who showed to those who did not according to the gender')\n",
    "plt.xlabel('Age')\n",
    "plt.ylabel('Patient Number')"
   ]
  },
  {
   "cell_type": "markdown",
   "metadata": {},
   "source": [
    "\n",
    "\n",
    "here:\n",
    "- from age (0_10) they are the higgest patient number.\n",
    "- from (80_100) lowest patient number.\n",
    "\n"
   ]
  },
  {
   "cell_type": "markdown",
   "metadata": {},
   "source": [
    "<a id='conclusions'></a>\n",
    "## Conclusions\n",
    "\n"
   ]
  },
  {
   "cell_type": "markdown",
   "metadata": {},
   "source": [
    "\n",
    "\n",
    "here:\n",
    "- At the end, Age plays an important role, as the age group 0-10 is the most attended, followed by the age group 35-70 years old, and the elderly are the age group that rarely attends the appointment. \n",
    "- Although it sounds a bit strange, but more patients showed up at the clinic without receiving the SMS.\n",
    "- limitation could not detect corrolation between patinets showing/not showing and many characteristics such as Gender, Chronic diseases, disabilities."
   ]
  },
  {
   "cell_type": "code",
   "execution_count": null,
   "metadata": {},
   "outputs": [],
   "source": [
    "from subprocess import call\n",
    "call(['python', '-m', 'nbconvert', 'Investigate_a_Dataset.ipynb'])"
   ]
  }
 ],
 "metadata": {
  "kernelspec": {
   "display_name": "Python 3",
   "language": "python",
   "name": "python3"
  },
  "language_info": {
   "codemirror_mode": {
    "name": "ipython",
    "version": 3
   },
   "file_extension": ".py",
   "mimetype": "text/x-python",
   "name": "python",
   "nbconvert_exporter": "python",
   "pygments_lexer": "ipython3",
   "version": "3.6.3"
  }
 },
 "nbformat": 4,
 "nbformat_minor": 2
}
